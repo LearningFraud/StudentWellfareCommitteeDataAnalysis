{
 "cells": [
  {
   "cell_type": "markdown",
   "id": "ada84e86",
   "metadata": {},
   "source": [
    "# ⚠️ Navigation Issue on Data Visualisation Page\n",
    "\n",
    "Due to unforeseen technical issues, some crucial navigation buttons are not visible on the **Data Visualisation Page**. This has been identified as a **local display problem**.\n",
    "\n",
    "---\n",
    "\n",
    "## 🛠️ Management Strategy\n",
    "\n",
    "To resolve this, run the cell below to check if your screen is large enough to support the page layout. If not, please switch to a larger screen or external monitor.\n"
   ]
  },
  {
   "cell_type": "code",
   "execution_count": 5,
   "id": "c3525314",
   "metadata": {},
   "outputs": [
    {
     "name": "stdout",
     "output_type": "stream",
     "text": [
      "Monitor: \\\\.\\DISPLAY1\n",
      "Resolution: 1920x1080 pixels\n",
      "Physical size: 309mm x 174mm\n",
      "────────────────────────────────────────────\n",
      "⚠️ This screen is too small to display all navigation elements.\n",
      "👉 Please consider using a larger or external monitor.\n",
      "\n",
      "\n",
      "Monitor: \\\\.\\DISPLAY2\n",
      "Resolution: 1920x1080 pixels\n",
      "Physical size: 527mm x 297mm\n",
      "────────────────────────────────────────────\n",
      "✅ This screen meets the minimum size requirements.\n",
      "\n",
      "\n"
     ]
    }
   ],
   "source": [
    "from screeninfo import get_monitors\n",
    "\n",
    "MIN_WIDTH_MM = 526\n",
    "MIN_HEIGHT_MM = 296\n",
    "\n",
    "for m in get_monitors():\n",
    "    print(f\"Monitor: {m.name or 'Unnamed'}\")\n",
    "    print(f\"Resolution: {m.width}x{m.height} pixels\")\n",
    "    print(f\"Physical size: {m.width_mm}mm x {m.height_mm}mm\")\n",
    "    print(\"────────────────────────────────────────────\")\n",
    "    \n",
    "    if m.width_mm < MIN_WIDTH_MM or m.height_mm < MIN_HEIGHT_MM:\n",
    "        print(\"⚠️ This screen is too small to display all navigation elements.\")\n",
    "        print(\"👉 Please consider using a larger or external monitor.\")\n",
    "    else:\n",
    "        print(\"✅ This screen meets the minimum size requirements.\")\n",
    "    \n",
    "    print(\"\\n\")\n"
   ]
  }
 ],
 "metadata": {
  "kernelspec": {
   "display_name": "Python 3",
   "language": "python",
   "name": "python3"
  },
  "language_info": {
   "codemirror_mode": {
    "name": "ipython",
    "version": 3
   },
   "file_extension": ".py",
   "mimetype": "text/x-python",
   "name": "python",
   "nbconvert_exporter": "python",
   "pygments_lexer": "ipython3",
   "version": "3.11.9"
  }
 },
 "nbformat": 4,
 "nbformat_minor": 5
}
