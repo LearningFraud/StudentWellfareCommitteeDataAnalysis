{
 "cells": [
  {
   "cell_type": "markdown",
   "id": "4d803639",
   "metadata": {},
   "source": [
    "# Project Journal\n",
    "\n",
    "## Week 1\n",
    "\n",
    "### 23/07/2025\n",
    "\n",
    "* **Definitions** - Today I was able to complete all of the overview \n",
    "* **GitHub** - Today I started the GitHub Repository\n",
    "* **Project Journal** - Today I started this Project Journal\n",
    "* **README** - Today I established the README with assessment details\n",
    "\n",
    "### Initial Commit Report\n",
    "\n",
    "* **Summary**: Intial Commit 23/7 - Overview, README, Project Journal\n",
    "\n",
    "* **Description**: \n",
    "\n",
    "    23/07/2025\n",
    "\n",
    "    - Definitions - Today I was able to complete all of the overview \n",
    "    - GitHub - Today I started the GitHub Repository\n",
    "    - Project Journal - Today I started this Project Journal\n",
    "    - README - Today I established the README with assessment details\n",
    "\n",
    "### 24/07/2025\n",
    "\n",
    "* **Definitions** - My old thesis has become unavailable so I've had to switch it up, but I added all the overview\n",
    "\n",
    "* **Data** - I created and emailed out the google form\n",
    "\n",
    "### 24/07 Commit Report\n",
    "\n",
    "* **Summary**: Commit 24/7 - Definitions\n",
    "\n",
    "* **Description**: \n",
    "    * Definitions - My old thesis has become unavailable so I've had to switch it up, but I added all the overview"
   ]
  }
 ],
 "metadata": {
  "language_info": {
   "name": "python"
  }
 },
 "nbformat": 4,
 "nbformat_minor": 5
}
