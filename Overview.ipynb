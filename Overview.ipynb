{
 "cells": [
  {
   "cell_type": "markdown",
   "id": "c58e00e8",
   "metadata": {},
   "source": [
    "# Thesis\n",
    "\n",
    "## Overview\n",
    "\n",
    "This thesis stems from day-to-day observations and conversations with fellow students regarding their experience within the school’s physical environment. Many classrooms across Gosford High remain visually bare, lacking stimuli that promote creativity or motivation. Yet, in spaces where student art and academic posters do feature prominently, engagement and morale noticeably improve. It became increasingly clear that classroom atmosphere directly impacts how students feel, focus, and perform, especially during long school days.\n",
    "\n",
    "Classroom decoration isn’t just an aesthetic preference — it’s an educational tool and a psychological influence. By creating a system to track, improve, and sustain classroom visual engagement, we can tap into overlooked opportunities to make learning more inviting and productive.\n",
    "\n",
    "## Thesis Question\n",
    "\n",
    "“Does classroom decoration, or the lack thereof, impact how students learn and how they feel about learning?”\n",
    "\n",
    "## Hypothesis\n",
    "\n",
    "Classrooms with thoughtful, engaging visual design — especially those featuring student-created art and motivational content — positively influence students’ mood, attentiveness, and perception of their learning experience. A lack of decoration, on the other hand, fosters cognitive fatigue and emotional detachment from the learning space.\n",
    "\n",
    "## Use Case\n",
    "\n",
    "This project will serve as a practical tool to enhance Gosford High School’s physical learning environments. It aligns with the SRC's mission to support student wellbeing and engagement by:\n",
    "\n",
    "* Promoting student creativity through visual self-expression and ownership of shared spaces\n",
    "\n",
    "* Tracking classroom atmosphere impact via structured surveys across year groups\n",
    "\n",
    "* Fostering productivity by creating visually stimulating environments that sustain focus\n",
    "\n",
    "* Informing staff incentives through feedback-based recognition programs\n",
    "\n",
    "* Guiding administrative decisions by identifying which rooms need support or redesign\n",
    "\n",
    "Survey data will guide recommendations for each block. SRC initiatives may include a decoration campaign, student poster showcases, staff-student collaboration challenges, and a public recognition system for participating classrooms. This isn’t just decoration—it’s strategy. And it turns passive walls into active contributors to student success."
   ]
  }
 ],
 "metadata": {
  "language_info": {
   "name": "python"
  }
 },
 "nbformat": 4,
 "nbformat_minor": 5
}
