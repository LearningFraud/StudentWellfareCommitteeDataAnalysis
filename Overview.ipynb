{
 "cells": [
  {
   "cell_type": "markdown",
   "id": "c58e00e8",
   "metadata": {},
   "source": [
    "# Thesis\n",
    "\n",
    "## Overview\n",
    "\n",
    "My thesis statement revolves around personal observations of my fellow students and friendgroups over the course of this year. I truly started realising this when I went through my own mental health crisis earlier this year. Thankfully I've managed to work through it, but it really opened my eyes to the mental health truth. It is on a decline at school because of a lack of resources, visibility of said resources, and administrative planning leading to undue fatigue on students.\n",
    "\n",
    "## Thesis Question\n",
    "\n",
    "\"Do you believe school has a major negative impact on student's mental health and wellbeing?\"\n",
    "\n",
    "## Hypothesis\n",
    "\n",
    "I believe that the school has a major negative impact on student mental health due to poor or misthought planning and a lack of vicibility of support resources. The resources themselves are state-of-the-art, however I believe that they are not being utilised enough or to their full potential, thus warranting an investigation into the matter\n",
    "\n",
    "## Use Case\n",
    "\n",
    "This project is practical and will see action further than this assessment task as this infrastructure will be developed to be realised as a supplemental tool for an incoming Student Wellfare Commitee as an advisory and assistance board to the preexisting Student Wellfare Team in order to increase the overall mental health of the school community by means of student relations management, marketing efforts, increased visibility to the Wellfare Team, and administrative lobbying to see that student welfare is maximised within Gosford High School."
   ]
  }
 ],
 "metadata": {
  "language_info": {
   "name": "python"
  }
 },
 "nbformat": 4,
 "nbformat_minor": 5
}
