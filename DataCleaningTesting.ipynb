{
 "cells": [
  {
   "cell_type": "markdown",
   "id": "461b7ddf",
   "metadata": {},
   "source": [
    "# The Problem\n",
    "\n",
    "Ok so basically, humans are naturally variable. I tried to add response validation of some kind in form but it seems my Regex didn't work. So here we are. \n",
    "\n",
    "# The Solution\n",
    "\n",
    "In order to solve this problem, I'm going to employ a script to generate clear room codes and seprate them into new rows such that when reading down the line each row has one room code attached and an associated reading.\n",
    "\n",
    "# Assumptions and Exclusions\n",
    "\n",
    "## Assumptions\n",
    "\n",
    "For multi-room inputs it is assumed the rating applies to each room subjected.\n",
    "\n",
    "I.e:\n",
    "\n",
    "INPUT:\n",
    "Room Input: \"B2, L2, LIB\"\n",
    "Rating Decor: 3\n",
    "Rating Learning: 4\n",
    "\n",
    "OUTPUT:\n",
    "Room Output: \"B2\"\n",
    "Rating Decor: 3\n",
    "Rating Learning: 4\n",
    "\n",
    "Room Output: \"L2\"\n",
    "Rating Decor: 3\n",
    "Rating Learning: 4\n",
    "\n",
    "Room Output: \"LIB\"\n",
    "Rating Decor: 3\n",
    "Rating Learning: 4\n",
    "\n",
    "## Exclusions\n",
    "\n",
    "Data which is unproductive or does not contain room codes such as: \"The desk layout is more important\" will be excluded. And timestamp information will be excluded as it is not important.\n"
   ]
  }
 ],
 "metadata": {
  "language_info": {
   "name": "python"
  }
 },
 "nbformat": 4,
 "nbformat_minor": 5
}
